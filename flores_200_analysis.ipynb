{
 "cells": [
  {
   "cell_type": "code",
   "execution_count": 9,
   "metadata": {
    "collapsed": false,
    "jupyter": {
     "outputs_hidden": false
    },
    "pycharm": {
     "is_executing": true,
     "name": "#%%\n"
    }
   },
   "outputs": [],
   "source": [
    "import matplotlib.pyplot as plt\n",
    "import matplotlib as mpl\n",
    "import seaborn as sns\n",
    "import pandas as pd\n",
    "import numpy as np\n",
    "\n",
    "import transformers\n",
    "\n",
    "from matplotlib.colors import BoundaryNorm\n",
    "from matplotlib.ticker import FuncFormatter\n"
   ]
  },
  {
   "cell_type": "code",
   "execution_count": 10,
   "metadata": {
    "pycharm": {
     "name": "#%%\n"
    }
   },
   "outputs": [],
   "source": [
    "mpl.rcParams['font.family'] = 'serif'\n",
    "mpl.rcParams['font.serif'] = ['Times New Roman']\n",
    "mpl.rcParams['mathtext.fontset'] = 'cm'\n",
    "# bigger size\n",
    "mpl.rcParams['font.size'] = 14"
   ]
  },
  {
   "cell_type": "code",
   "execution_count": 11,
   "metadata": {
    "collapsed": false,
    "jupyter": {
     "outputs_hidden": false
    },
    "pycharm": {
     "name": "#%%\n"
    }
   },
   "outputs": [],
   "source": [
    "from src.utils import hex_to_str, str_to_hex\n",
    "from src.train_subword import build_gpt_tokenizer\n"
   ]
  },
  {
   "cell_type": "markdown",
   "metadata": {
    "collapsed": false,
    "jupyter": {
     "outputs_hidden": false
    },
    "pycharm": {
     "name": "#%% md\n"
    }
   },
   "source": [
    "## Load FLORES dataset"
   ]
  },
  {
   "cell_type": "code",
   "execution_count": 12,
   "metadata": {
    "collapsed": false,
    "jupyter": {
     "outputs_hidden": false
    },
    "pycharm": {
     "name": "#%%\n"
    }
   },
   "outputs": [],
   "source": [
    "# load flores dataset for languages: en, es, pt, fr, it, ro, pl, mt, ja, zh, ko, te, ta\n",
    "languages = ['en', 'es', 'pt', 'fr', 'it', 'ro', 'pl', 'mt','he', 'ar', 'ja', 'ko', 'te', 'ta', 'si']\n",
    "\n",
    "palette = sns.color_palette(\"viridis\", len(languages))\n",
    "languages_colors = {lang: col for lang, col in zip(languages, palette)}\n",
    "nice_colors = [ ]\n",
    "languages_flores = {'en': 'eng_Latn',\n",
    "                    'es': 'spa_Latn',\n",
    "                    'pt': 'por_Latn',\n",
    "                    'fr': 'fra_Latn',\n",
    "                    'it': 'ita_Latn',\n",
    "                    'ro': 'ron_Latn',\n",
    "                    'pl': 'pol_Latn',\n",
    "                    'mt': 'mlt_Latn',\n",
    "                    'he': 'heb_Hebr',\n",
    "                    'ar': 'arb_Arab',\n",
    "                    'ja': 'jpn_Jpan',\n",
    "                    #'zh': 'zho_Hans',\n",
    "                    'ko': 'kor_Hang',\n",
    "                    'te': 'tel_Telu',\n",
    "                    'ta': 'tam_Taml',\n",
    "                    #'bo': 'bod_Tibt',\n",
    "                    'si': 'sin_Sinh'}\n",
    "flores = {}\n",
    "\n",
    "for lang in languages:\n",
    "    with open(f'flores200_dataset/devtest/{languages_flores[lang]}.devtest', 'r') as f:\n",
    "        flores[lang] = f.read().splitlines()"
   ]
  },
  {
   "cell_type": "code",
   "execution_count": 13,
   "metadata": {
    "collapsed": false,
    "jupyter": {
     "outputs_hidden": false
    },
    "pycharm": {
     "name": "#%%\n"
    }
   },
   "outputs": [],
   "source": [
    "flores_chars = flores.copy()\n",
    "flores_bytes = {lang: [bytes(line, 'utf-8') for line in flores[lang]] for lang in flores.keys()}\n",
    "flores_words = {lang: [line.split() for line in flores[lang]] for lang in flores.keys()}\n"
   ]
  },
  {
   "cell_type": "code",
   "execution_count": 14,
   "metadata": {
    "collapsed": false,
    "jupyter": {
     "outputs_hidden": false
    },
    "pycharm": {
     "name": "#%%\n"
    }
   },
   "outputs": [],
   "source": [
    "# XLM-R tokenizer\n",
    "tokenizer = transformers.AutoTokenizer.from_pretrained(\"xlm-roberta-base\")\n",
    "flores_xlmr = {lang: [tokenizer.encode(line) for line in flores[lang]] for lang in flores.keys()}"
   ]
  },
  {
   "cell_type": "markdown",
   "metadata": {
    "collapsed": false,
    "jupyter": {
     "outputs_hidden": false
    },
    "pycharm": {
     "name": "#%% md\n"
    }
   },
   "source": [
    "## Plot the number of tokens per language"
   ]
  },
  {
   "cell_type": "code",
   "execution_count": 15,
   "metadata": {
    "collapsed": false,
    "jupyter": {
     "outputs_hidden": false
    },
    "pycharm": {
     "name": "#%%\n"
    }
   },
   "outputs": [],
   "source": [
    "def plot_token_numbers(lang_tokenized, title=None):\n",
    "    token_numbers = {}\n",
    "    for lang in lang_tokenized.keys():\n",
    "        token_numbers[lang] = sum(len(tokenized_line) for tokenized_line in lang_tokenized[lang]) / len(lang_tokenized[lang])\n",
    "    # sort by value\n",
    "    token_numbers = dict(sorted(token_numbers.items(), key=lambda item: item[1], reverse=True))\n",
    "    plt.bar(token_numbers.keys(), token_numbers.values())\n",
    "    for i, lang in enumerate(token_numbers.keys()):\n",
    "        plt.bar(i, token_numbers[lang], color=languages_colors[lang])\n",
    "    #plt.xticks(rotation=90)\n",
    "    plt.ylabel(\"Line avg.\")\n",
    "    if title:\n",
    "        plt.title(title)\n",
    "    plt.show()"
   ]
  },
  {
   "cell_type": "code",
   "execution_count": 16,
   "metadata": {
    "collapsed": false,
    "jupyter": {
     "outputs_hidden": false
    },
    "pycharm": {
     "name": "#%%\n"
    }
   },
   "outputs": [],
   "source": [
    "def plot_compare_token_numbers(lang_tokenized_methods, method_names, title=None, parity=None):\n",
    "   \n",
    "    assert len(lang_tokenized_methods) == len(method_names)\n",
    "    token_number_methods = {}\n",
    "    for lang_tokenized, method in zip(lang_tokenized_methods, method_names):\n",
    "        token_numbers = {}\n",
    "        for lang in lang_tokenized.keys():\n",
    "            token_numbers[lang] = sum(len(tokenized_line) for tokenized_line in lang_tokenized[lang]) / len(lang_tokenized[lang])\n",
    "        token_number_methods[method] = token_numbers\n",
    "\n",
    "    \n",
    "    token_number_methods = pd.DataFrame(token_number_methods)\n",
    "    if parity and parity in token_number_methods.index:\n",
    "        token_number_methods = token_number_methods / token_number_methods.loc[parity,:]\n",
    "    print(token_number_methods)\n",
    "    # compute mean and std\n",
    "    print(f\"Means: {token_number_methods.mean(axis=0)}\")\n",
    "    print(f\"Std: {token_number_methods.std(axis=0)}\")\n",
    "\n",
    "    sns.set_palette(['#B2DF8A', '#FDBF6F', '#B3CDE3', '#FCCDE5', '#D9D9D9'])\n",
    "\n",
    "    sns.boxplot(data=token_number_methods)\n",
    "    #plt.boxplot(token_number_methods, labels=method_names)\n",
    "    plt.xticks(rotation=45)\n",
    "    if parity:\n",
    "        plt.ylabel(f\"Parity to {parity}\")\n",
    "    else:\n",
    "        plt.ylabel(\"Line avg. segemnets (log)\")\n",
    "        plt.semilogy()\n",
    "    if title:\n",
    "        plt.title(title)\n",
    "    plt.show()"
   ]
  },
  {
   "cell_type": "code",
   "execution_count": 17,
   "metadata": {
    "collapsed": false,
    "jupyter": {
     "outputs_hidden": false
    },
    "pycharm": {
     "name": "#%%\n"
    }
   },
   "outputs": [
    {
     "data": {
      "image/png": "[encoded data removed]",
      "text/plain": [
       "<Figure size 640x480 with 1 Axes>"
      ]
     },
     "metadata": {},
     "output_type": "display_data"
    }
   ],
   "source": [
    "plot_token_numbers(flores_chars, \"Characters\")"
   ]
  },
  {
   "cell_type": "code",
   "execution_count": 18,
   "metadata": {
    "collapsed": false,
    "jupyter": {
     "outputs_hidden": false
    },
    "pycharm": {
     "name": "#%%\n"
    }
   },
   "outputs": [
    {
     "data": {
      "image/png": "[encoded data removed]",
      "text/plain": [
       "<Figure size 640x480 with 1 Axes>"
      ]
     },
     "metadata": {},
     "output_type": "display_data"
    }
   ],
   "source": [
    "plot_token_numbers(flores_bytes, \"Bytes\")"
   ]
  },
  {
   "cell_type": "code",
   "execution_count": 19,
   "metadata": {
    "collapsed": false,
    "jupyter": {
     "outputs_hidden": false
    },
    "pycharm": {
     "name": "#%%\n"
    }
   },
   "outputs": [
    {
     "data": {
      "image/png": "[encoded data removed]",
      "text/plain": [
       "<Figure size 640x480 with 1 Axes>"
      ]
     },
     "metadata": {},
     "output_type": "display_data"
    }
   ],
   "source": [
    "plot_token_numbers(flores_words, \"Words\")"
   ]
  },
  {
   "cell_type": "code",
   "execution_count": 20,
   "metadata": {
    "collapsed": false,
    "jupyter": {
     "outputs_hidden": false
    },
    "pycharm": {
     "name": "#%%\n"
    }
   },
   "outputs": [
    {
     "data": {
      "image/png": "[encoded data removed]",
      "text/plain": [
       "<Figure size 640x480 with 1 Axes>"
      ]
     },
     "metadata": {},
     "output_type": "display_data"
    }
   ],
   "source": [
    "plot_token_numbers(flores_xlmr, \"XLM-R Tokens\")"
   ]
  },
  {
   "cell_type": "markdown",
   "metadata": {
    "collapsed": false,
    "jupyter": {
     "outputs_hidden": false
    },
    "pycharm": {
     "name": "#%% md\n"
    }
   },
   "source": [
    "## Balenced BBPE on FLORES"
   ]
  },
  {
   "cell_type": "code",
   "execution_count": 21,
   "metadata": {
    "collapsed": false,
    "jupyter": {
     "outputs_hidden": false
    },
    "pycharm": {
     "name": "#%%\n"
    }
   },
   "outputs": [
    {
     "name": "stdout",
     "output_type": "stream",
     "text": [
      "\n",
      "\n",
      "\n",
      "\n",
      "\n",
      "\n",
      "\n",
      "\n",
      "\n",
      "\n",
      "\n",
      "\n",
      "\n",
      "\n",
      "\n",
      "\n",
      "\n",
      "\n",
      "\n",
      "\n",
      "\n",
      "\n",
      "\n",
      "\n",
      "\n",
      "\n",
      "\n",
      "\n",
      "\n",
      "\n",
      "\n",
      "\n",
      "\n",
      "\n",
      "\n",
      "\n",
      "\n",
      "\n",
      "\n",
      "\n",
      "\n",
      "\n",
      "\n",
      "\n",
      "\n",
      "\n",
      "\n",
      "\n",
      "\n",
      "\n",
      "\n",
      "\n",
      "\n",
      "\n",
      "\n",
      "\n",
      "\n",
      "\n",
      "\n",
      "\n",
      "\n",
      "\n",
      "\n",
      "\n",
      "\n",
      "\n",
      "\n",
      "\n",
      "\n",
      "\n",
      "\n",
      "\n",
      "\n",
      "\n",
      "\n",
      "\n",
      "\n",
      "\n",
      "\n",
      "\n",
      "\n",
      "\n",
      "\n",
      "\n",
      "\n",
      "\n",
      "\n",
      "\n",
      "\n",
      "\n",
      "\n",
      "\n",
      "\n",
      "\n",
      "\n",
      "\n",
      "\n",
      "\n",
      "\n",
      "\n",
      "\n",
      "\n",
      "\n",
      "\n",
      "\n",
      "\n",
      "\n",
      "\n",
      "\n",
      "\n",
      "\n",
      "\n",
      "\n",
      "\n",
      "\n",
      "\n",
      "\n",
      "\n",
      "\n",
      "\n",
      "\n",
      "\n",
      "\n",
      "\n",
      "\n",
      "\n",
      "\n",
      "\n",
      "\n",
      "\n",
      "\n",
      "\n",
      "\n",
      "\n",
      "\n",
      "\n",
      "\n",
      "\n",
      "\n",
      "\n",
      "\n",
      "\n",
      "\n",
      "\n"
     ]
    }
   ],
   "source": [
    "split=\"dev\"\n",
    "flores_tokenizers = build_gpt_tokenizer(f\"flores200_dataset/{split}/joint.{split}\", [10000, 50000,100000])\n",
    "flores_il_tokenizers = {}\n",
    "for lang in languages:\n",
    "    flores_il_tokenizers[lang] = build_gpt_tokenizer(f\"flores200_dataset/{split}/{languages_flores[lang]}.{split}\", [2000, 10000,20000])\n"
   ]
  },
  {
   "cell_type": "code",
   "execution_count": 22,
   "metadata": {
    "collapsed": false,
    "jupyter": {
     "outputs_hidden": false
    },
    "pycharm": {
     "name": "#%%\n"
    }
   },
   "outputs": [],
   "source": [
    "flores_baltok = {lang: [flores_tokenizers['tokenizer_50000'].encode(line) for line in flores[lang]] for lang in flores.keys()}\n",
    "flores_il_baltok = {lang: [flores_il_tokenizers[lang]['tokenizer_10000'].encode(line) for line in flores[lang]] for lang in flores.keys()}"
   ]
  },
  {
   "cell_type": "code",
   "execution_count": 23,
   "metadata": {
    "collapsed": false,
    "jupyter": {
     "outputs_hidden": false
    },
    "pycharm": {
     "name": "#%%\n"
    }
   },
   "outputs": [
    {
     "data": {
      "image/png": "[encoded data removed]",
      "text/plain": [
       "<Figure size 640x480 with 1 Axes>"
      ]
     },
     "metadata": {},
     "output_type": "display_data"
    }
   ],
   "source": [
    "plot_token_numbers(flores_baltok, \"Flores Balanced Tokens\")"
   ]
  },
  {
   "cell_type": "markdown",
   "metadata": {
    "collapsed": false,
    "jupyter": {
     "outputs_hidden": false
    },
    "pycharm": {
     "name": "#%% md\n"
    }
   },
   "source": [
    "## Morfessor rewriting"
   ]
  },
  {
   "cell_type": "code",
   "execution_count": 24,
   "metadata": {
    "collapsed": false,
    "jupyter": {
     "outputs_hidden": false
    },
    "pycharm": {
     "name": "#%%\n"
    }
   },
   "outputs": [],
   "source": [
    "from src.rewrite_bytes import ByteRewriter\n",
    "from src.utils import str_to_hex"
   ]
  },
  {
   "cell_type": "code",
   "execution_count": 26,
   "metadata": {
    "collapsed": false,
    "jupyter": {
     "outputs_hidden": false
    },
    "pycharm": {
     "name": "#%%\n"
    }
   },
   "outputs": [
    {
     "ename": "FileNotFoundError",
     "evalue": "[Errno 2] No such file or directory: 'byte_maps/morf_map_decomposed_filtered_cost_clustered.json'",
     "output_type": "error",
     "traceback": [
      "\u001B[0;31m---------------------------------------------------------------------------\u001B[0m",
      "\u001B[0;31mFileNotFoundError\u001B[0m                         Traceback (most recent call last)",
      "Cell \u001B[0;32mIn[26], line 5\u001B[0m\n\u001B[1;32m      3\u001B[0m morf_all_map_file \u001B[38;5;241m=\u001B[39m \u001B[38;5;124m\"\u001B[39m\u001B[38;5;124mbyte_maps/morf_map_all_cost_clustered.json\u001B[39m\u001B[38;5;124m\"\u001B[39m\n\u001B[1;32m      4\u001B[0m decompose_rewriter \u001B[38;5;241m=\u001B[39m ByteRewriter(decompose_file)\n\u001B[0;32m----> 5\u001B[0m morf_rewriter \u001B[38;5;241m=\u001B[39m \u001B[43mByteRewriter\u001B[49m\u001B[43m(\u001B[49m\u001B[43mmorf_map_file\u001B[49m\u001B[43m)\u001B[49m\n\u001B[1;32m      6\u001B[0m morf_all_rewriter \u001B[38;5;241m=\u001B[39m ByteRewriter(morf_all_map_file)\n\u001B[1;32m      8\u001B[0m flores_decomposed_rw \u001B[38;5;241m=\u001B[39m {lang: [decompose_rewriter\u001B[38;5;241m.\u001B[39mrewrite_bytes(str_to_hex(line)\u001B[38;5;241m.\u001B[39msplit(\u001B[38;5;124m'\u001B[39m\u001B[38;5;124m \u001B[39m\u001B[38;5;124m'\u001B[39m)) \u001B[38;5;28;01mfor\u001B[39;00m line \u001B[38;5;129;01min\u001B[39;00m flores[lang]] \u001B[38;5;28;01mfor\u001B[39;00m lang \u001B[38;5;129;01min\u001B[39;00m flores\u001B[38;5;241m.\u001B[39mkeys()}\n",
      "File \u001B[0;32m~/projects/fair_segmentation/src/rewrite_bytes.py:16\u001B[0m, in \u001B[0;36mByteRewriter.__init__\u001B[0;34m(self, rewriting_rules)\u001B[0m\n\u001B[1;32m     13\u001B[0m \u001B[38;5;28;01mdef\u001B[39;00m \u001B[38;5;21m__init__\u001B[39m(\u001B[38;5;28mself\u001B[39m, rewriting_rules: Union[\u001B[38;5;28mstr\u001B[39m, \u001B[38;5;28mdict\u001B[39m[\u001B[38;5;28mstr\u001B[39m, \u001B[38;5;28mstr\u001B[39m]]):\n\u001B[1;32m     15\u001B[0m \t\u001B[38;5;28;01mif\u001B[39;00m \u001B[38;5;28mtype\u001B[39m(rewriting_rules) \u001B[38;5;241m==\u001B[39m \u001B[38;5;28mstr\u001B[39m:\n\u001B[0;32m---> 16\u001B[0m \t\t\u001B[38;5;28;01mwith\u001B[39;00m \u001B[38;5;28;43mopen\u001B[39;49m\u001B[43m(\u001B[49m\u001B[43mrewriting_rules\u001B[49m\u001B[43m,\u001B[49m\u001B[43m \u001B[49m\u001B[38;5;124;43m\"\u001B[39;49m\u001B[38;5;124;43mr\u001B[39;49m\u001B[38;5;124;43m\"\u001B[39;49m\u001B[43m)\u001B[49m \u001B[38;5;28;01mas\u001B[39;00m f:\n\u001B[1;32m     17\u001B[0m \t\t\trewriting_rules \u001B[38;5;241m=\u001B[39m json\u001B[38;5;241m.\u001B[39mload(f)\n\u001B[1;32m     18\u001B[0m \t\u001B[38;5;28;01melif\u001B[39;00m \u001B[38;5;129;01mnot\u001B[39;00m \u001B[38;5;28mtype\u001B[39m(rewriting_rules) \u001B[38;5;241m==\u001B[39m \u001B[38;5;28mdict\u001B[39m:\n",
      "\u001B[0;31mFileNotFoundError\u001B[0m: [Errno 2] No such file or directory: 'byte_maps/morf_map_decomposed_filtered_cost_clustered.json'"
     ]
    }
   ],
   "source": [
    "decompose_file = \"byte_maps/decompose.json\"\n",
    "morf_map_file = \"byte_maps/morf_map_decomposed_filtered_cost_clustered.json\"\n",
    "morf_all_map_file = \"byte_maps/morf_map_all_cost_clustered.json\"\n",
    "decompose_rewriter = ByteRewriter(decompose_file)\n",
    "morf_rewriter = ByteRewriter(morf_map_file)\n",
    "morf_all_rewriter = ByteRewriter(morf_all_map_file)\n",
    "\n",
    "flores_decomposed_rw = {lang: [decompose_rewriter.rewrite_bytes(str_to_hex(line).split(' ')) for line in flores[lang]] for lang in flores.keys()}\n",
    "flores_morfs_rw = {lang: [morf_rewriter.rewrite_bytes(decompose_rewriter.rewrite_bytes(str_to_hex(line).split(' '))) for line in flores[lang]] for lang in flores.keys()}\n",
    "flores_morfs_all_rw = {lang: [morf_all_rewriter.rewrite_bytes(decompose_rewriter.rewrite_bytes(str_to_hex(line).split(' '))) for line in flores[lang]] for lang in flores.keys()}"
   ]
  },
  {
   "cell_type": "code",
   "execution_count": null,
   "metadata": {
    "collapsed": false,
    "jupyter": {
     "outputs_hidden": false
    },
    "pycharm": {
     "name": "#%%\n"
    }
   },
   "outputs": [],
   "source": [
    "title = f\"Morfs rewritten in UTF-8 decompose\"\n",
    "plot_token_numbers(flores_decomposed_rw , title)"
   ]
  },
  {
   "cell_type": "code",
   "execution_count": null,
   "metadata": {
    "pycharm": {
     "name": "#%%\n"
    }
   },
   "outputs": [],
   "source": [
    "title = f\"Morphs rewritten in UTF-8\"\n",
    "plot_token_numbers(flores_morfs_rw , title)"
   ]
  },
  {
   "cell_type": "code",
   "execution_count": null,
   "metadata": {
    "pycharm": {
     "name": "#%%\n"
    }
   },
   "outputs": [],
   "source": [
    "title = f\"Morfs (all) rewritten in UTF-8\"\n",
    "plot_token_numbers(flores_morfs_all_rw , title)"
   ]
  },
  {
   "cell_type": "markdown",
   "metadata": {
    "pycharm": {
     "name": "#%% md\n"
    }
   },
   "source": [
    "## Compare Parity"
   ]
  },
  {
   "cell_type": "code",
   "execution_count": null,
   "metadata": {
    "collapsed": false,
    "jupyter": {
     "outputs_hidden": false
    },
    "pycharm": {
     "name": "#%%\n"
    }
   },
   "outputs": [],
   "source": [
    "\n",
    "plot_compare_token_numbers([flores_bytes, flores_morfs_rw, flores_morfs_all_rw, flores_chars],\n",
    "                           ['bytes','m. bytes','m. bytes (all)','chars'])"
   ]
  },
  {
   "cell_type": "code",
   "execution_count": null,
   "metadata": {
    "pycharm": {
     "name": "#%%\n"
    }
   },
   "outputs": [],
   "source": [
    "plot_compare_token_numbers([flores_bytes, flores_morfs_rw, flores_morfs_all_rw, flores_chars],\n",
    "                           ['bytes','m. bytes','m. bytes (all)','chars'], parity='en')"
   ]
  },
  {
   "cell_type": "code",
   "execution_count": null,
   "metadata": {
    "pycharm": {
     "name": "#%%\n"
    }
   },
   "outputs": [],
   "source": [
    "compression_factors = []\n",
    "for lang in languages:\n",
    "    byte_base = sum([len(sen) for sen in flores_bytes[lang]])\n",
    "    morph_base = sum([len(sen) for sen in flores_morfs_all_rw[lang]])\n",
    "    compression_factors.append(1- (morph_base/byte_base))"
   ]
  },
  {
   "cell_type": "code",
   "execution_count": null,
   "metadata": {
    "pycharm": {
     "name": "#%%\n"
    }
   },
   "outputs": [],
   "source": [
    "sum(compression_factors) / len(compression_factors)"
   ]
  },
  {
   "cell_type": "code",
   "execution_count": null,
   "metadata": {
    "pycharm": {
     "name": "#%%\n"
    }
   },
   "outputs": [],
   "source": [
    "sorted_languages, compression_factors = zip(*sorted(zip(languages, compression_factors), key=lambda item: item[1], reverse=True))"
   ]
  },
  {
   "cell_type": "code",
   "execution_count": null,
   "metadata": {
    "pycharm": {
     "name": "#%%\n"
    }
   },
   "outputs": [],
   "source": [
    "max(compression_factors)"
   ]
  },
  {
   "cell_type": "code",
   "execution_count": null,
   "metadata": {
    "pycharm": {
     "name": "#%%\n"
    }
   },
   "outputs": [],
   "source": [
    "# plot bar plot going down from 0 to 100 %\n",
    "\n",
    "# barplot with pall\n",
    "\n",
    "def percent_minus_formatter(x, pos):\n",
    "    return f\"-{x:.0f}%\"\n",
    "\n",
    "cmap = plt.cm.get_cmap('YlGn')\n",
    "norm = BoundaryNorm([-0.1, 0.01, 0.05, 0.1, 0.2,  0.6, 0.7, 0.8], cmap.N)\n",
    "\n",
    "\n",
    "plt.bar(sorted_languages, np.array(compression_factors) * 100, color=cmap(norm(compression_factors)))\n",
    "\n",
    "\n",
    "ax = plt.gca()\n",
    "formatter = FuncFormatter(percent_minus_formatter)\n",
    "ax.yaxis.set_major_formatter(formatter)\n",
    "ax.tick_params('x', top=True, bottom=False, labeltop=True, labelbottom=False)\n",
    "ax.set_ylim([0.,70.])\n",
    "ax.spines['right'].set_visible(False)\n",
    "ax.spines['bottom'].set_visible(False)\n",
    "# add percent to y ticks\n",
    "\n",
    "\n",
    "ax.invert_yaxis()\n",
    "\n",
    "\n",
    "\n",
    "\n",
    "plt.show()"
   ]
  },
  {
   "cell_type": "code",
   "execution_count": null,
   "metadata": {
    "pycharm": {
     "name": "#%%\n"
    }
   },
   "outputs": [],
   "source": [
    "compression_factors "
   ]
  },
  {
   "cell_type": "code",
   "execution_count": null,
   "metadata": {
    "pycharm": {
     "name": "#%%\n"
    }
   },
   "outputs": [],
   "source": [
    "# barplot with palette green\n"
   ]
  },
  {
   "cell_type": "code",
   "execution_count": null,
   "metadata": {
    "pycharm": {
     "name": "#%%\n"
    }
   },
   "outputs": [],
   "source": [
    "cmap.N"
   ]
  },
  {
   "cell_type": "code",
   "execution_count": null,
   "metadata": {
    "pycharm": {
     "name": "#%%\n"
    }
   },
   "outputs": [],
   "source": []
  }
 ],
 "metadata": {
  "kernelspec": {
   "display_name": "Python 3 (ipykernel)",
   "language": "python",
   "name": "python3"
  },
  "language_info": {
   "codemirror_mode": {
    "name": "ipython",
    "version": 3
   },
   "file_extension": ".py",
   "mimetype": "text/x-python",
   "name": "python",
   "nbconvert_exporter": "python",
   "pygments_lexer": "ipython3",
   "version": "3.9.7"
  }
 },
 "nbformat": 4,
 "nbformat_minor": 4
}