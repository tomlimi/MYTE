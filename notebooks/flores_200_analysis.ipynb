{
 "cells": [
  {
   "cell_type": "code",
   "execution_count": null,
   "outputs": [],
   "source": [
    "import matplotlib.pyplot as plt\n",
    "import seaborn as sns\n",
    "import pandas as pd\n",
    "import numpy as np\n",
    "\n",
    "import transformers\n",
    "import matplotlib as mpl\n",
    "import os\n",
    "\n",
    "os.chdir(\"..\")"
   ],
   "metadata": {
    "collapsed": false,
    "pycharm": {
     "name": "#%%\n"
    }
   }
  },
  {
   "cell_type": "code",
   "execution_count": null,
   "outputs": [],
   "source": [
    "mpl.rcParams['font.family'] = 'serif'\n",
    "mpl.rcParams['font.serif'] = ['Times New Roman']\n",
    "mpl.rcParams['mathtext.fontset'] = 'cm'\n",
    "# bigger size\n",
    "mpl.rcParams['font.size'] = 16\n",
    "# bold x-labels\n",
    "mpl.rcParams['axes.labelweight'] = 'bold'\n",
    "# smaller labels on axes\n",
    "mpl.rcParams['axes.labelsize'] = 14\n",
    "\n",
    "mpl.rcParams['xtick.labelsize'] = 12"
   ],
   "metadata": {
    "collapsed": false,
    "pycharm": {
     "name": "#%%\n"
    }
   }
  },
  {
   "cell_type": "markdown",
   "source": [
    "## Load FLORES dataset"
   ],
   "metadata": {
    "collapsed": false,
    "pycharm": {
     "name": "#%% md\n"
    }
   }
  },
  {
   "cell_type": "code",
   "execution_count": null,
   "outputs": [],
   "source": [
    "# load flores dataset for languages: en, es, pt, fr, it, ro, pl, mt, ja, zh, ko, te, ta\n",
    "languages = ['en', 'es', 'pt', 'fr', 'it', 'ro', 'pl', 'mt','he', 'ar', 'ja', 'ko', 'te', 'ta', 'si']\n",
    "\n",
    "palette = sns.color_palette(\"viridis\", len(languages))\n",
    "languages_colors = {lang: col for lang, col in zip(languages, palette)}\n",
    "nice_colors = [ ]\n",
    "languages_flores = {'en': 'eng_Latn',\n",
    "                    'es': 'spa_Latn',\n",
    "                    'pt': 'por_Latn',\n",
    "                    'fr': 'fra_Latn',\n",
    "                    'it': 'ita_Latn',\n",
    "                    'ro': 'ron_Latn',\n",
    "                    'pl': 'pol_Latn',\n",
    "                    'mt': 'mlt_Latn',\n",
    "                    'he': 'heb_Hebr',\n",
    "                    'ar': 'arb_Arab',\n",
    "                    'ja': 'jpn_Jpan',\n",
    "                    #'zh': 'zho_Hans',\n",
    "                    'ko': 'kor_Hang',\n",
    "                    'te': 'tel_Telu',\n",
    "                    'ta': 'tam_Taml',\n",
    "                    #'bo': 'bod_Tibt',\n",
    "                    'si': 'sin_Sinh'}\n",
    "flores = {}\n",
    "\n",
    "for lang in languages:\n",
    "    with open(f'flores200_dataset/devtest/{languages_flores[lang]}.devtest', 'r') as f:\n",
    "        flores[lang] = f.read().splitlines()"
   ],
   "metadata": {
    "collapsed": false,
    "pycharm": {
     "name": "#%%\n"
    }
   }
  },
  {
   "cell_type": "code",
   "execution_count": null,
   "outputs": [],
   "source": [
    "flores_chars = flores.copy()\n",
    "flores_bytes = {lang: [bytes(line, 'utf-8') for line in flores[lang]] for lang in flores.keys()}\n",
    "flores_words = {lang: [line.split() for line in flores[lang]] for lang in flores.keys()}\n"
   ],
   "metadata": {
    "collapsed": false,
    "pycharm": {
     "name": "#%%\n"
    }
   }
  },
  {
   "cell_type": "code",
   "execution_count": null,
   "outputs": [],
   "source": [
    "# XLM-R tokenizer\n",
    "tokenizer = transformers.AutoTokenizer.from_pretrained(\"xlm-roberta-base\")\n",
    "flores_xlmr = {lang: [tokenizer.encode(line) for line in flores[lang]] for lang in flores.keys()}"
   ],
   "metadata": {
    "collapsed": false,
    "pycharm": {
     "name": "#%%\n"
    }
   }
  },
  {
   "cell_type": "markdown",
   "source": [
    "## Plot the number of tokens per language"
   ],
   "metadata": {
    "collapsed": false,
    "pycharm": {
     "name": "#%% md\n"
    }
   }
  },
  {
   "cell_type": "code",
   "execution_count": null,
   "outputs": [],
   "source": [
    "def plot_token_numbers(lang_tokenized, title=None):\n",
    "    token_numbers = {}\n",
    "    for lang in lang_tokenized.keys():\n",
    "        token_numbers[lang] = sum(len(tokenized_line) for tokenized_line in lang_tokenized[lang]) / len(lang_tokenized[lang])\n",
    "    # sort by value\n",
    "    token_numbers = dict(sorted(token_numbers.items(), key=lambda item: item[1], reverse=True))\n",
    "    plt.bar(token_numbers.keys(), token_numbers.values())\n",
    "    for i, lang in enumerate(token_numbers.keys()):\n",
    "        plt.bar(i, token_numbers[lang], color=languages_colors[lang])\n",
    "    plt.xticks(rotation=90)\n",
    "    plt.ylabel(\"Line avg. segemnets\")\n",
    "    if title:\n",
    "        plt.title(title)\n",
    "    plt.show()"
   ],
   "metadata": {
    "collapsed": false,
    "pycharm": {
     "name": "#%%\n"
    }
   }
  },
  {
   "cell_type": "code",
   "execution_count": null,
   "outputs": [],
   "source": [
    "def plot_compare_token_numbers(lang_tokenized_methods, method_names, title=None, parity=None):\n",
    "    assert len(lang_tokenized_methods) == len(method_names)\n",
    "    token_number_methods = {}\n",
    "    for lang_tokenized, method in zip(lang_tokenized_methods, method_names):\n",
    "        token_numbers = {}\n",
    "        for lang in lang_tokenized.keys():\n",
    "            token_numbers[lang] = sum(len(tokenized_line) for tokenized_line in lang_tokenized[lang]) / len(lang_tokenized[lang])\n",
    "        token_number_methods[method] = token_numbers\n",
    "\n",
    "    \n",
    "    token_number_methods = pd.DataFrame(token_number_methods)\n",
    "    if parity and parity in token_number_methods.index:\n",
    "        token_number_methods = token_number_methods / token_number_methods.loc[parity,:]\n",
    "    print(token_number_methods)\n",
    "    # compute mean and std\n",
    "    print(f\"Means: {token_number_methods.mean(axis=0)}\")\n",
    "    print(f\"Std: {token_number_methods.std(axis=0)}\")\n",
    "\n",
    "    sns.boxplot(data=token_number_methods)\n",
    "    #plt.boxplot(token_number_methods, labels=method_names)\n",
    "    plt.xticks(rotation=45)\n",
    "    if parity:\n",
    "        plt.ylabel(f\"Parity to {parity}\")\n",
    "    else:\n",
    "        plt.ylabel(\"Line avg. segemnets (log)\")\n",
    "        plt.semilogy()\n",
    "    if title:\n",
    "        plt.title(title)\n",
    "    plt.show()"
   ],
   "metadata": {
    "collapsed": false,
    "pycharm": {
     "name": "#%%\n"
    }
   }
  },
  {
   "cell_type": "code",
   "execution_count": null,
   "outputs": [],
   "source": [
    "plot_token_numbers(flores_chars, \"Characters\")"
   ],
   "metadata": {
    "collapsed": false,
    "pycharm": {
     "name": "#%%\n"
    }
   }
  },
  {
   "cell_type": "code",
   "execution_count": null,
   "outputs": [],
   "source": [
    "plot_token_numbers(flores_bytes, \"Bytes\")"
   ],
   "metadata": {
    "collapsed": false,
    "pycharm": {
     "name": "#%%\n"
    }
   }
  },
  {
   "cell_type": "code",
   "execution_count": null,
   "outputs": [],
   "source": [
    "plot_token_numbers(flores_words, \"Words\")"
   ],
   "metadata": {
    "collapsed": false,
    "pycharm": {
     "name": "#%%\n"
    }
   }
  },
  {
   "cell_type": "code",
   "execution_count": null,
   "outputs": [],
   "source": [
    "plot_token_numbers(flores_xlmr, \"XLM-R Tokens\")"
   ],
   "metadata": {
    "collapsed": false,
    "pycharm": {
     "name": "#%%\n"
    }
   }
  },
  {
   "cell_type": "markdown",
   "source": [
    "## Morfessor rewriting"
   ],
   "metadata": {
    "collapsed": false,
    "pycharm": {
     "name": "#%% md\n"
    }
   }
  },
  {
   "cell_type": "code",
   "execution_count": null,
   "outputs": [],
   "source": [
    "from src.rewrite_bytes import ByteRewriter\n",
    "from src.utils import str_to_hex"
   ],
   "metadata": {
    "collapsed": false,
    "pycharm": {
     "name": "#%%\n"
    }
   }
  },
  {
   "cell_type": "code",
   "execution_count": null,
   "outputs": [],
   "source": [
    "decompose_file = \"byte_maps/decompose.json\"\n",
    "morf_map_file = \"byte_maps/merge_map.json\"\n",
    "decompose_rewriter = ByteRewriter(decompose_file)\n",
    "morf_rewriter = ByteRewriter(morf_map_file)\n",
    "\n",
    "flores_decomposed_rw = {lang: [decompose_rewriter.rewrite_bytes(str_to_hex(line).split(' ')) for line in flores[lang]] for lang in flores.keys()}\n",
    "flores_morfs_rw = {lang: [morf_rewriter.rewrite_bytes(decompose_rewriter.rewrite_bytes(str_to_hex(line).split(' '))) for line in flores[lang]] for lang in flores.keys()}"
   ],
   "metadata": {
    "collapsed": false,
    "pycharm": {
     "name": "#%%\n"
    }
   }
  },
  {
   "cell_type": "code",
   "execution_count": null,
   "outputs": [],
   "source": [
    "title = f\"Morfs rewritten in UTF-8 decompose\"\n",
    "plot_token_numbers(flores_decomposed_rw , title)"
   ],
   "metadata": {
    "collapsed": false,
    "pycharm": {
     "name": "#%%\n"
    }
   }
  },
  {
   "cell_type": "code",
   "execution_count": null,
   "outputs": [],
   "source": [
    "title = f\"Morfs rewritten in UTF-8\"\n",
    "plot_token_numbers(flores_morfs_rw , title)"
   ],
   "metadata": {
    "collapsed": false,
    "pycharm": {
     "name": "#%%\n"
    }
   }
  },
  {
   "cell_type": "markdown",
   "source": [
    "## Morfessor experiments"
   ],
   "metadata": {
    "collapsed": false,
    "pycharm": {
     "name": "#%% md\n"
    }
   }
  },
  {
   "cell_type": "code",
   "execution_count": null,
   "outputs": [],
   "source": [
    "def load_morfessor_results(split, byte_patches, morf_len, morf_type_num, joint=False):\n",
    "    flores_morfs = {}\n",
    "    file_name= f\"{split}_bp_{byte_patches}_ml_{morf_len}_mtn_{morf_type_num}\"\n",
    "    if joint:\n",
    "        file_name = \"joint_\" + file_name\n",
    "    for lang in languages:\n",
    "        lang_fl = languages_flores[lang]\n",
    "        path = f'morfessor_out/{lang_fl}/{file_name}.seg.decoded'\n",
    "        try:\n",
    "            with open(path, 'r') as f:\n",
    "                flores_morfs[lang] = f.read().splitlines()\n",
    "        except FileNotFoundError:\n",
    "            print(f\"File {path} not found\")\n",
    "            flores_morfs[lang] = [\"\"]\n",
    "    flores_morfs = {lang: [line.split() for line in flores_morfs[lang]] for lang in flores_morfs.keys()}\n",
    "\n",
    "    return flores_morfs"
   ],
   "metadata": {
    "collapsed": false,
    "pycharm": {
     "name": "#%%\n"
    }
   }
  },
  {
   "cell_type": "code",
   "execution_count": null,
   "outputs": [],
   "source": [
    "split = \"dev\"\n",
    "byte_patches = 36\n",
    "morf_len = 0\n",
    "morf_type_num = 4096\n",
    "\n",
    "flores_morfs = load_morfessor_results(split, byte_patches, morf_len, morf_type_num)\n",
    "title = f\"Morfs {split} (morphs={morf_type_num})\"\n",
    "plot_token_numbers(flores_morfs, title)"
   ],
   "metadata": {
    "collapsed": false,
    "pycharm": {
     "name": "#%%\n"
    }
   }
  },
  {
   "cell_type": "code",
   "execution_count": null,
   "outputs": [],
   "source": [
    "split = \"dev\"\n",
    "byte_patches = 36\n",
    "morf_len = 0\n",
    "morf_type_num = 1024\n",
    "\n",
    "flores_morfs = load_morfessor_results(split, byte_patches, morf_len, morf_type_num)\n",
    "title = f\"Morphemes Set Size: {morf_type_num}\"\n",
    "plot_token_numbers(flores_morfs, title)"
   ],
   "metadata": {
    "collapsed": false,
    "pycharm": {
     "name": "#%%\n"
    }
   }
  },
  {
   "cell_type": "code",
   "execution_count": null,
   "outputs": [],
   "source": [
    "split = \"joint_dev\"\n",
    "byte_patches = 24\n",
    "morf_len = 0\n",
    "morf_type_num = 4096\n",
    "\n",
    "flores_morfs = load_morfessor_results(split, byte_patches, morf_len, morf_type_num)\n",
    "title = f\"Morphemes Set Size: {morf_type_num}\"\n",
    "plot_token_numbers(flores_morfs, title)"
   ],
   "metadata": {
    "collapsed": false,
    "pycharm": {
     "name": "#%%\n"
    }
   }
  },
  {
   "cell_type": "code",
   "execution_count": null,
   "outputs": [],
   "source": [
    "split = \"dev\"\n",
    "byte_patches = 24\n",
    "morf_len = 0\n",
    "morf_type_num = 4096\n",
    "\n",
    "flores_morfs = load_morfessor_results(split, byte_patches, morf_len, morf_type_num)\n",
    "title = f\"Morphemes Set Size: {morf_type_num}\"\n",
    "plot_token_numbers(flores_morfs, title)"
   ],
   "metadata": {
    "collapsed": false,
    "pycharm": {
     "name": "#%%\n"
    }
   }
  },
  {
   "cell_type": "code",
   "execution_count": null,
   "outputs": [],
   "source": [
    "split = \"joint_dev\"\n",
    "byte_patches = 24\n",
    "morf_len = 0\n",
    "morf_type_num = 16384\n",
    "\n",
    "flores_morfs = load_morfessor_results(split, byte_patches, morf_len, morf_type_num)\n",
    "title = f\"Morphemes Set Size: {morf_type_num}\"\n",
    "plot_token_numbers(flores_morfs, title)"
   ],
   "metadata": {
    "collapsed": false,
    "pycharm": {
     "name": "#%%\n"
    }
   }
  },
  {
   "cell_type": "code",
   "execution_count": null,
   "outputs": [],
   "source": [
    "split = \"devtest\"\n",
    "byte_patches = 24\n",
    "morf_len = 0\n",
    "morf_type_num = 4096\n",
    "\n",
    "flores_morfs = load_morfessor_results(split, byte_patches, morf_len, morf_type_num)\n",
    "title = f\"Morfs {split} (bp={byte_patches}, ml={morf_len}, mtn={morf_type_num})\"\n",
    "plot_token_numbers(flores_morfs, title)"
   ],
   "metadata": {
    "collapsed": false,
    "pycharm": {
     "name": "#%%\n"
    }
   }
  },
  {
   "cell_type": "markdown",
   "source": [
    "## Joint analysis"
   ],
   "metadata": {
    "collapsed": false,
    "pycharm": {
     "name": "#%% md\n"
    }
   }
  },
  {
   "cell_type": "code",
   "execution_count": null,
   "outputs": [],
   "source": [
    "split = \"dev\"\n",
    "byte_patches = 24\n",
    "morf_len = 0\n",
    "morf_type_num = 16384\n",
    "\n",
    "flores_morfs_joint = load_morfessor_results(split, byte_patches, morf_len, morf_type_num, joint=True)\n",
    "title = f\"Morfs joint {split} (bp={byte_patches}, ml={morf_len}, mtn={morf_type_num})\"\n",
    "plot_token_numbers(flores_morfs_joint, title)"
   ],
   "metadata": {
    "collapsed": false,
    "pycharm": {
     "name": "#%%\n"
    }
   }
  },
  {
   "cell_type": "code",
   "execution_count": null,
   "outputs": [],
   "source": [
    "split = \"devtest\"\n",
    "byte_patches = 24\n",
    "morf_len = 0\n",
    "morf_type_num = 16384\n",
    "\n",
    "flores_morfs_joint = load_morfessor_results(split, byte_patches, morf_len, morf_type_num, joint=True)\n",
    "title = f\"Morfs joint {split} (bp={byte_patches}, ml={morf_len}, mtn={morf_type_num})\"\n",
    "plot_token_numbers(flores_morfs_joint, title)"
   ],
   "metadata": {
    "collapsed": false,
    "pycharm": {
     "name": "#%%\n"
    }
   }
  },
  {
   "cell_type": "markdown",
   "source": [
    "## Comparision of methods "
   ],
   "metadata": {
    "collapsed": false,
    "pycharm": {
     "name": "#%% md\n"
    }
   }
  },
  {
   "cell_type": "code",
   "execution_count": null,
   "outputs": [],
   "source": [
    "plot_compare_token_numbers([flores_bytes, flores_morfs, flores_morfs_joint, flores_chars, flores_xlmr, flores_words] ,\n",
    "                           ['bytes','morfs','morfs (joint)', 'chars', 'xlmr T', 'words'])"
   ],
   "metadata": {
    "collapsed": false,
    "pycharm": {
     "name": "#%%\n"
    }
   }
  },
  {
   "cell_type": "code",
   "execution_count": null,
   "outputs": [],
   "source": [
    "plot_compare_token_numbers([flores_bytes, flores_morfs, flores_morfs_joint, flores_chars, flores_xlmr,  flores_words] ,\n",
    "                           ['bytes','morfs','morfs (joint)', 'chars', 'xlmr T', 'words'], parity='en')"
   ],
   "metadata": {
    "collapsed": false,
    "pycharm": {
     "name": "#%%\n"
    }
   }
  },
  {
   "cell_type": "markdown",
   "metadata": {
    "collapsed": false,
    "jupyter": {
     "outputs_hidden": false
    },
    "pycharm": {
     "name": "#%% md\n"
    }
   },
   "source": [
    "## Comparision of methods "
   ]
  },
  {
   "cell_type": "code",
   "execution_count": 25,
   "metadata": {
    "collapsed": false,
    "jupyter": {
     "outputs_hidden": false
    },
    "pycharm": {
     "name": "#%%\n"
    }
   },
   "outputs": [
    {
     "name": "stdout",
     "output_type": "stream",
     "text": [
      "         bytes      morfs  morfs (joint)       chars     xlmr T      words\n",
      "en  130.529644  38.785573      40.904150  130.401186  32.297431  21.641304\n",
      "es  158.046443  45.994071      46.559289  155.178854  38.249012  25.771739\n",
      "pt  145.769763  43.349802      44.337945  141.787549  35.687747  23.135375\n",
      "fr  162.081028  46.407115      47.904150  155.818182  41.433794  25.314229\n",
      "it  155.394269  44.383399      46.695652  154.286561  38.121542  24.022727\n",
      "ro  155.099802  45.715415      46.721344  146.844862  39.695652  23.447628\n",
      "pl  146.495059  44.689723      45.884387  137.831028  38.012846  19.256917\n",
      "mt  151.973320  44.011858      46.234190  144.553360  61.596838  19.046443\n",
      "he  180.910079  42.152174      44.242095  100.843874  35.961462  17.162055\n",
      "ar  208.770751  43.193676      48.883399  114.940711  37.540514  19.404150\n",
      "ja  165.127470  42.297431      42.240119   56.267787  35.748024   1.068182\n",
      "ko  155.927866  40.670949      41.998024   65.182806  37.134387  15.247036\n",
      "te  349.516798  40.866601      54.872530  130.933794  41.898221  16.737154\n",
      "ta  416.641304  43.157115      58.147233  152.305336  42.866601  16.576087\n",
      "si  341.952569  42.285573      56.187747  129.525692  42.414032  20.462451\n",
      "Means: bytes            201.615744\n",
      "morfs             43.197365\n",
      "morfs (joint)     47.454150\n",
      "chars            127.780105\n",
      "xlmr T            39.910540\n",
      "words             19.219565\n",
      "dtype: float64\n",
      "Std: bytes            89.896741\n",
      "morfs             2.117943\n",
      "morfs (joint)     5.166146\n",
      "chars            31.311394\n",
      "xlmr T            6.672001\n",
      "words             6.014677\n",
      "dtype: float64\n"
     ]
    },
    {
     "data": {
      "image/png": "[encoded data removed]",
      "text/plain": [
       "<Figure size 640x480 with 1 Axes>"
      ]
     },
     "metadata": {},
     "output_type": "display_data"
    }
   ],
   "source": [
    "plot_compare_token_numbers([flores_bytes, flores_morfs, flores_morfs_joint, flores_chars, flores_xlmr, flores_words] ,\n",
    "                           ['bytes','morfs','morfs (joint)', 'chars', 'xlmr T', 'words'])"
   ]
  },
  {
   "cell_type": "code",
   "execution_count": 26,
   "metadata": {
    "collapsed": false,
    "jupyter": {
     "outputs_hidden": false
    },
    "pycharm": {
     "name": "#%%\n"
    }
   },
   "outputs": [
    {
     "name": "stdout",
     "output_type": "stream",
     "text": [
      "       bytes     morfs  morfs (joint)     chars    xlmr T     words\n",
      "en  1.000000  1.000000       1.000000  1.000000  1.000000  1.000000\n",
      "es  1.210809  1.185855       1.138253  1.190011  1.184274  1.190859\n",
      "pt  1.116756  1.117679       1.083947  1.087318  1.104972  1.069038\n",
      "fr  1.241718  1.196505       1.171132  1.194914  1.282882  1.169718\n",
      "it  1.190490  1.144328       1.141587  1.183168  1.180327  1.110041\n",
      "ro  1.188234  1.178671       1.142215  1.126101  1.229065  1.083467\n",
      "pl  1.122313  1.152225       1.121754  1.056977  1.176962  0.889822\n",
      "mt  1.164282  1.134748       1.130306  1.108528  1.907175  0.880097\n",
      "he  1.385969  1.086800       1.081604  0.773336  1.113447  0.793023\n",
      "ar  1.599413  1.113653       1.195072  0.881439  1.162337  0.896626\n",
      "ja  1.265057  1.090545       1.032661  0.431498  1.106838  0.049358\n",
      "ko  1.194578  1.048610       1.026742  0.499864  1.149763  0.704534\n",
      "te  2.677681  1.053655       1.341491  1.004084  1.297262  0.773389\n",
      "ta  3.191929  1.112711       1.421548  1.167975  1.327245  0.765947\n",
      "si  2.619731  1.090240       1.373644  0.993286  1.313232  0.945528\n",
      "Means: bytes            1.544597\n",
      "morfs            1.113748\n",
      "morfs (joint)    1.160130\n",
      "chars            0.979900\n",
      "xlmr T           1.235719\n",
      "words            0.888096\n",
      "dtype: float64\n",
      "Std: bytes            0.688707\n",
      "morfs            0.054606\n",
      "morfs (joint)    0.126299\n",
      "chars            0.240116\n",
      "xlmr T           0.206580\n",
      "words            0.277926\n",
      "dtype: float64\n"
     ]
    },
    {
     "data": {
      "image/png": "[encoded data removed]",
      "text/plain": [
       "<Figure size 640x480 with 1 Axes>"
      ]
     },
     "metadata": {},
     "output_type": "display_data"
    }
   ],
   "source": [
    "plot_compare_token_numbers([flores_bytes, flores_morfs, flores_morfs_joint, flores_chars, flores_xlmr,  flores_words] ,\n",
    "                           ['bytes','morfs','morfs (joint)', 'chars', 'xlmr T', 'words'], parity='en')"
   ]
  }
 ],
 "metadata": {
  "kernelspec": {
   "display_name": "Python 3 (ipykernel)",
   "language": "python",
   "name": "python3"
  },
  "language_info": {
   "codemirror_mode": {
    "name": "ipython",
    "version": 3
   },
   "file_extension": ".py",
   "mimetype": "text/x-python",
   "name": "python",
   "nbconvert_exporter": "python",
   "pygments_lexer": "ipython3",
   "version": "3.9.7"
  }
 },
 "nbformat": 4,
 "nbformat_minor": 4
}